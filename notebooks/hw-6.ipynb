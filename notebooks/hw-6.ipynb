{
 "cells": [
  {
   "cell_type": "markdown",
   "id": "78d71919",
   "metadata": {},
   "source": [
    "Easy"
   ]
  },
  {
   "cell_type": "markdown",
   "id": "21094789",
   "metadata": {},
   "source": [
    "Будем использовать f1 score"
   ]
  },
  {
   "cell_type": "code",
   "execution_count": 51,
   "id": "8bebc677",
   "metadata": {},
   "outputs": [],
   "source": [
    "import re\n",
    "import spacy\n",
    "import pandas as pd\n",
    "from sklearn.feature_extraction.text import TfidfVectorizer\n",
    "from sklearn.model_selection import train_test_split\n",
    "from sklearn.linear_model import LogisticRegression\n",
    "from sklearn.tree import DecisionTreeClassifier\n",
    "from sklearn.ensemble import RandomForestClassifier\n",
    "from sklearn.metrics import f1_score"
   ]
  },
  {
   "cell_type": "code",
   "execution_count": 59,
   "id": "b96759f9",
   "metadata": {},
   "outputs": [],
   "source": [
    "data_path = '../data/singapore_airlines_reviews.csv'"
   ]
  },
  {
   "cell_type": "code",
   "execution_count": 63,
   "id": "a80ae65e",
   "metadata": {},
   "outputs": [],
   "source": [
    "df = pd.read_csv(data_path)"
   ]
  },
  {
   "cell_type": "code",
   "execution_count": 64,
   "id": "005659a7",
   "metadata": {},
   "outputs": [],
   "source": [
    "text_processed = df['text'].map(lambda text: re.sub(r'[^\\w\\s]', '', text))\n",
    "text_processed = text_processed.map(lambda text: re.sub(r'\\n', ' ', text))\n",
    "y = df['rating']"
   ]
  },
  {
   "cell_type": "code",
   "execution_count": 69,
   "id": "b9a45d87",
   "metadata": {},
   "outputs": [],
   "source": [
    "X_train, X_test, y_train, y_test = train_test_split(text_processed, y, random_state=42)\n",
    "vectorizer = TfidfVectorizer()\n",
    "X_train = vectorizer.fit_transform(X_train)\n",
    "X_test = vectorizer.transform(X_test)"
   ]
  },
  {
   "cell_type": "code",
   "execution_count": 70,
   "id": "a0e71bcc",
   "metadata": {},
   "outputs": [],
   "source": [
    "clf = LogisticRegression().fit(X_train, y_train)"
   ]
  },
  {
   "cell_type": "code",
   "execution_count": 71,
   "id": "3d79c255",
   "metadata": {},
   "outputs": [
    {
     "data": {
      "text/plain": [
       "0.6592"
      ]
     },
     "execution_count": 71,
     "metadata": {},
     "output_type": "execute_result"
    }
   ],
   "source": [
    "y_pred = clf.predict(X_test)\n",
    "f1_score(y_pred, y_test, average='micro')"
   ]
  },
  {
   "cell_type": "markdown",
   "id": "8c31e082",
   "metadata": {},
   "source": [
    "Medium"
   ]
  },
  {
   "cell_type": "code",
   "execution_count": 78,
   "id": "b97fb18f",
   "metadata": {},
   "outputs": [],
   "source": [
    "def text_process(text, nlp):\n",
    "    text = re.sub(r'[^\\w\\s]', '', text)\n",
    "    text = re.sub(r'\\n', ' ', text)\n",
    "    doc = nlp(text)\n",
    "    filtered_words = [token.lemma_ for token in doc if not token.is_stop]\n",
    "    clean_text = ' '.join(filtered_words)\n",
    "    return clean_text"
   ]
  },
  {
   "cell_type": "code",
   "execution_count": 86,
   "id": "b7673413",
   "metadata": {},
   "outputs": [],
   "source": [
    "nlp = spacy.load(\"en_core_web_sm\")\n",
    "text_processed = df['text'].map(lambda text: text_process(text, nlp))"
   ]
  },
  {
   "cell_type": "code",
   "execution_count": 87,
   "id": "7d70d38c",
   "metadata": {},
   "outputs": [],
   "source": [
    "X_train, X_test, y_train, y_test = train_test_split(text_processed, y, random_state=42)\n",
    "vectorizer = TfidfVectorizer()\n",
    "X_train = vectorizer.fit_transform(X_train)\n",
    "X_test = vectorizer.transform(X_test)"
   ]
  },
  {
   "cell_type": "code",
   "execution_count": 94,
   "id": "f0aca38f",
   "metadata": {},
   "outputs": [
    {
     "data": {
      "text/plain": [
       "0.6492"
      ]
     },
     "execution_count": 94,
     "metadata": {},
     "output_type": "execute_result"
    }
   ],
   "source": [
    "clf_logistic = LogisticRegression().fit(X_train, y_train)\n",
    "y_pred = clf_logistic.predict(X_test)\n",
    "f1_score(y_pred, y_test, average='micro')"
   ]
  },
  {
   "cell_type": "markdown",
   "id": "484a5b20",
   "metadata": {},
   "source": [
    "Почему-то в случае логистической регрессии метрика не выросла"
   ]
  },
  {
   "cell_type": "markdown",
   "id": "573b5f03",
   "metadata": {},
   "source": [
    "Решающее дерево"
   ]
  },
  {
   "cell_type": "code",
   "execution_count": 95,
   "id": "92ee486b",
   "metadata": {},
   "outputs": [
    {
     "data": {
      "text/plain": [
       "0.5244"
      ]
     },
     "execution_count": 95,
     "metadata": {},
     "output_type": "execute_result"
    }
   ],
   "source": [
    "clf_decision_tree = DecisionTreeClassifier().fit(X_train, y_train)\n",
    "y_pred = clf_decision_tree.predict(X_test)\n",
    "f1_score(y_pred, y_test, average='micro')"
   ]
  },
  {
   "cell_type": "markdown",
   "id": "e76e7dbf",
   "metadata": {},
   "source": [
    "Случайный лес"
   ]
  },
  {
   "cell_type": "code",
   "execution_count": 96,
   "id": "3dbd185c",
   "metadata": {},
   "outputs": [
    {
     "data": {
      "text/plain": [
       "0.5968"
      ]
     },
     "execution_count": 96,
     "metadata": {},
     "output_type": "execute_result"
    }
   ],
   "source": [
    "clf_random_forest = RandomForestClassifier().fit(X_train, y_train)\n",
    "y_pred = clf_random_forest.predict(X_test)\n",
    "f1_score(y_pred, y_test, average='micro')"
   ]
  },
  {
   "cell_type": "markdown",
   "id": "d4942792",
   "metadata": {},
   "source": [
    "Самой лучшей себя показала логистическая регрессия - будем использовать ее"
   ]
  },
  {
   "cell_type": "code",
   "execution_count": 102,
   "id": "1fa3ac35",
   "metadata": {},
   "outputs": [],
   "source": [
    "tests = pd.DataFrame(['It was the worst flight of my life. The flight was greatly delayed', \n",
    "         'Great flight, great service. We arrived right on time'])\n",
    "text_processed = tests.map(lambda text: text_process(text, nlp))\n",
    "tests = vectorizer.transform(text_processed[0])"
   ]
  },
  {
   "cell_type": "code",
   "execution_count": 103,
   "id": "d4d08c4b",
   "metadata": {},
   "outputs": [
    {
     "data": {
      "text/plain": [
       "array([1, 5])"
      ]
     },
     "execution_count": 103,
     "metadata": {},
     "output_type": "execute_result"
    }
   ],
   "source": [
    "clf_logistic.predict(tests)"
   ]
  },
  {
   "cell_type": "markdown",
   "id": "da089d78",
   "metadata": {},
   "source": [
    "Как видно, первый отзыв имеет рейтинг 1, а второй 5, что и соответсвует их текстам."
   ]
  }
 ],
 "metadata": {
  "kernelspec": {
   "display_name": "Python 3 (ipykernel)",
   "language": "python",
   "name": "python3"
  },
  "language_info": {
   "codemirror_mode": {
    "name": "ipython",
    "version": 3
   },
   "file_extension": ".py",
   "mimetype": "text/x-python",
   "name": "python",
   "nbconvert_exporter": "python",
   "pygments_lexer": "ipython3",
   "version": "3.10.12"
  }
 },
 "nbformat": 4,
 "nbformat_minor": 5
}
