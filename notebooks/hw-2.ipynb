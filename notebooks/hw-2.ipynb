{
 "cells": [
  {
   "cell_type": "code",
   "execution_count": 1,
   "id": "08305fe4",
   "metadata": {},
   "outputs": [
    {
     "name": "stdout",
     "output_type": "stream",
     "text": [
      "/home/outcast/study/ml_hse/notebooks\r\n"
     ]
    }
   ],
   "source": [
    "!pwd"
   ]
  },
  {
   "cell_type": "code",
   "execution_count": 2,
   "id": "b122f5e8",
   "metadata": {},
   "outputs": [
    {
     "name": "stderr",
     "output_type": "stream",
     "text": [
      "/home/outcast/.local/lib/python3.10/site-packages/matplotlib/projections/__init__.py:63: UserWarning: Unable to import Axes3D. This may be due to multiple versions of Matplotlib being installed (e.g. as a system package and as a pip package). As a result, the 3D projection is not available.\n",
      "  warnings.warn(\"Unable to import Axes3D. This may be due to multiple versions of \"\n"
     ]
    }
   ],
   "source": [
    "import pandas as pd\n",
    "import matplotlib.pyplot as plt\n",
    "import seaborn as sns\n",
    "import numpy as np\n",
    "import math"
   ]
  },
  {
   "cell_type": "code",
   "execution_count": 3,
   "id": "a2d265d2",
   "metadata": {},
   "outputs": [],
   "source": [
    "table_path = '../data/marketing_campaign.csv'"
   ]
  },
  {
   "cell_type": "code",
   "execution_count": 4,
   "id": "446c6862",
   "metadata": {},
   "outputs": [],
   "source": [
    "df = pd.read_csv(table_path, sep = ';')"
   ]
  },
  {
   "cell_type": "markdown",
   "id": "937cf561",
   "metadata": {},
   "source": [
    "Easy - количество отзывов"
   ]
  },
  {
   "cell_type": "code",
   "execution_count": 5,
   "id": "ba14553f",
   "metadata": {},
   "outputs": [],
   "source": [
    "complain_sum = df['Complain'].sum()"
   ]
  },
  {
   "cell_type": "markdown",
   "id": "2fb8d55a",
   "metadata": {},
   "source": [
    "Easy - средний возраст"
   ]
  },
  {
   "cell_type": "code",
   "execution_count": 6,
   "id": "c48588d3",
   "metadata": {},
   "outputs": [],
   "source": [
    "firtst_mean = (2024 - df['Year_Birth']).mean()\n",
    "second_mean = (2024 - df[(df['MntWines'] > 0) | (df['MntFruits'] > 0) | (df['MntMeatProducts'] > 0) | \\\n",
    "                    (df['MntFishProducts'] > 0) | (df['MntSweetProducts'] > 0) | (df['MntGoldProds'] > 0)]['Year_Birth']).mean()"
   ]
  },
  {
   "cell_type": "markdown",
   "id": "cf247c91",
   "metadata": {},
   "source": [
    "Получили, что средние показатели равны относительно всей выборки"
   ]
  },
  {
   "cell_type": "code",
   "execution_count": 7,
   "id": "259d83d6",
   "metadata": {},
   "outputs": [
    {
     "ename": "NameError",
     "evalue": "name 'complain_mean' is not defined",
     "output_type": "error",
     "traceback": [
      "\u001b[0;31m---------------------------------------------------------------------------\u001b[0m",
      "\u001b[0;31mNameError\u001b[0m                                 Traceback (most recent call last)",
      "\u001b[0;32m/tmp/ipykernel_13530/825469205.py\u001b[0m in \u001b[0;36m<module>\u001b[0;34m\u001b[0m\n\u001b[0;32m----> 1\u001b[0;31m \u001b[0mprint\u001b[0m \u001b[0;34m(\u001b[0m\u001b[0mfirtst_mean\u001b[0m\u001b[0;34m,\u001b[0m \u001b[0msecond_mean\u001b[0m\u001b[0;34m,\u001b[0m \u001b[0mcomplain_mean\u001b[0m\u001b[0;34m)\u001b[0m\u001b[0;34m\u001b[0m\u001b[0;34m\u001b[0m\u001b[0m\n\u001b[0m",
      "\u001b[0;31mNameError\u001b[0m: name 'complain_mean' is not defined"
     ]
    }
   ],
   "source": [
    "print (firtst_mean, second_mean, complain_mean)"
   ]
  },
  {
   "cell_type": "markdown",
   "id": "dff9d983",
   "metadata": {},
   "source": [
    "Medium"
   ]
  },
  {
   "cell_type": "code",
   "execution_count": null,
   "id": "6e984b47",
   "metadata": {},
   "outputs": [],
   "source": [
    "df['Age'] = 2024 - df['Year_Birth']"
   ]
  },
  {
   "cell_type": "markdown",
   "id": "f37dc7c8",
   "metadata": {},
   "source": [
    "Рассмотри зависимость покупок от семейного положения "
   ]
  },
  {
   "cell_type": "code",
   "execution_count": null,
   "id": "ba874bd9",
   "metadata": {},
   "outputs": [],
   "source": [
    "sns.jointplot(x=df['Marital_Status'], y=df['NumWebPurchases'], kind=\"hist\")\n",
    "sns.jointplot(x=df['Marital_Status'], y=df['NumStorePurchases'], kind=\"hist\")"
   ]
  },
  {
   "cell_type": "markdown",
   "id": "0102c447",
   "metadata": {},
   "source": [
    "Можем видеть, что замужние люди покупают товаров больше, а еще что по каждой категории число покупок распределено нормально"
   ]
  },
  {
   "cell_type": "markdown",
   "id": "38411343",
   "metadata": {},
   "source": [
    "Посмотрим теперь, как зависит число покупок от годового дохода"
   ]
  },
  {
   "cell_type": "code",
   "execution_count": null,
   "id": "5843e7bf",
   "metadata": {},
   "outputs": [],
   "source": [
    "plt.figure(figsize=(40, 15))\n",
    "plt.subplot(1, 3, 1)\n",
    "sns.lineplot(x=df['Income'], y=df['NumWebPurchases'])\n",
    "plt.subplot(1, 3, 2)\n",
    "sns.lineplot(x=df['Income'], y=df['NumStorePurchases'])"
   ]
  },
  {
   "cell_type": "markdown",
   "id": "d6f0b0b5",
   "metadata": {},
   "source": [
    "Можно увидеть, что с увеличением семейного бюджета уровень покупок растет, как онлайн, так ив магазинах, однако. клиентов с сильно большим доходом у магазина не много"
   ]
  },
  {
   "cell_type": "markdown",
   "id": "1dbea42c",
   "metadata": {},
   "source": [
    "Посмотрим на зависимости от возраста: число покупок, число детей в семье, годовой доход, жаловался ли клиент"
   ]
  },
  {
   "cell_type": "code",
   "execution_count": null,
   "id": "2ebdfc22",
   "metadata": {},
   "outputs": [],
   "source": [
    "plt.figure(figsize=(40, 15))\n",
    "plt.subplot(3, 2, 1)\n",
    "sns.lineplot(x=df['Age'], y=df['NumWebPurchases']).set(title='Зависимость покупок онлайн от возраста')\n",
    "plt.subplot(3, 2, 2)\n",
    "sns.lineplot(x=df['Age'], y=df['NumStorePurchases']).set(title='Зависимость покупок в магазине от возраста')\n",
    "plt.subplot(3, 2, 3)\n",
    "sns.lineplot(x=df['Age'], y=df['Income']).set(title='Зависимость дохода от возраста')\n",
    "plt.subplot(3, 2, 4)\n",
    "sns.lineplot(x=df['Age'], y=df['Kidhome']).set(title='Зависимость числа детей от возраста')\n",
    "plt.subplot(3, 2, 5)\n",
    "sns.lineplot(x=df['Age'], y=df['Teenhome']).set(title='Зависимость числа подростков от возраста')"
   ]
  },
  {
   "cell_type": "markdown",
   "id": "f97658c0",
   "metadata": {},
   "source": [
    "Можем увидеть, что с возрастом люди чаще покупают в магазине, так же видно, что доход увеличивается с возрастом клиента, и что максимальное количество детей приходится на клиентов, которым 30-40 лет, а подростков на 60-70 лет"
   ]
  },
  {
   "cell_type": "markdown",
   "id": "c558e84a",
   "metadata": {},
   "source": [
    "Посмотрим на зависимости от образования: как влияет на число покупок, на доход, на количество детей в семье"
   ]
  },
  {
   "cell_type": "code",
   "execution_count": null,
   "id": "d2251c68",
   "metadata": {},
   "outputs": [],
   "source": [
    "plt.figure(figsize=(40, 15))\n",
    "plt.subplot(3, 2, 1)\n",
    "sns.lineplot(x=df['Education'], y=df['NumWebPurchases']).set(title='Зависимость покупок онлайн от образования')\n",
    "plt.subplot(3, 2, 2)\n",
    "sns.lineplot(x=df['Education'], y=df['NumStorePurchases']).set(title='Зависимость покупок в магазине от образования')\n",
    "plt.subplot(3, 2, 3)\n",
    "sns.lineplot(x=df['Education'], y=df['Income']).set(title='Зависимость дохода от образования')\n",
    "plt.subplot(3, 2, 4)\n",
    "sns.lineplot(x=df['Education'], y=df['Kidhome']).set(title='Зависимость числа детей от образования')\n",
    "plt.subplot(3, 2, 5)\n",
    "sns.lineplot(x=df['Education'], y=df['Kidhome']).set(title='Зависимость числа подростков от образования')"
   ]
  },
  {
   "cell_type": "markdown",
   "id": "e492e79a",
   "metadata": {},
   "source": [
    "Мы можем видеть, что меньше всего покупок у людей с базовым образованием, как и меньше их доход, но детей в среднем у таких людей больше"
   ]
  }
 ],
 "metadata": {
  "kernelspec": {
   "display_name": "Python 3 (ipykernel)",
   "language": "python",
   "name": "python3"
  },
  "language_info": {
   "codemirror_mode": {
    "name": "ipython",
    "version": 3
   },
   "file_extension": ".py",
   "mimetype": "text/x-python",
   "name": "python",
   "nbconvert_exporter": "python",
   "pygments_lexer": "ipython3",
   "version": "3.10.12"
  }
 },
 "nbformat": 4,
 "nbformat_minor": 5
}
