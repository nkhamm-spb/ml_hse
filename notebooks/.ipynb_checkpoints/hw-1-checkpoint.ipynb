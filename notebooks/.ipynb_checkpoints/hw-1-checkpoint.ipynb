{
 "cells": [
  {
   "cell_type": "code",
   "execution_count": 1,
   "id": "537f4950",
   "metadata": {},
   "outputs": [],
   "source": [
    "def mean(lst: list) -> int:\n",
    "    return sum(lst) / len(lst)"
   ]
  },
  {
   "cell_type": "code",
   "execution_count": 2,
   "id": "8b5d59dd",
   "metadata": {},
   "outputs": [],
   "source": [
    "def median(lst: list) -> int:\n",
    "    sorted_lst = sorted(lst)\n",
    "    return (lst[len(sorted_lst) // 2] + lst[len(sorted_lst) // 2 + len(sorted_lst) % 2 - 1]) / 2"
   ]
  },
  {
   "cell_type": "code",
   "execution_count": 3,
   "id": "ea4cbf94",
   "metadata": {},
   "outputs": [],
   "source": [
    "def mode(lst: list) -> int:\n",
    "    dct = {}\n",
    "    for i in lst:\n",
    "        dct[i] = dct.get(i, 0) + 1\n",
    "    return max(dct, key=dct.get)"
   ]
  },
  {
   "cell_type": "code",
   "execution_count": 4,
   "id": "e6cdc73c",
   "metadata": {},
   "outputs": [],
   "source": [
    "def solution_1(lst: list) -> dict:\n",
    "    dct = {\"mean\": mean(lst), \"median\": median(lst), \"mode\": mode(lst)}\n",
    "    return dct"
   ]
  },
  {
   "cell_type": "code",
   "execution_count": 5,
   "id": "ee9a299c",
   "metadata": {},
   "outputs": [],
   "source": [
    "def parse_csv(file_content: str) -> list[dict]:\n",
    "    answer = []\n",
    "    file_content = file_content.splitlines()\n",
    "    \n",
    "    fields = file_content[0].split(',')[1:]\n",
    "    \n",
    "    for i in range(1, len(file_content)):\n",
    "        line = file_content[i].split(',')\n",
    "        dct = {fields[i] : line[i + 1] for i in range(0, len(fields))}\n",
    "        dct[fields[-1]] = [\"\".join(filter(str.isalnum, line[i])) for i in range(len(fields), len(line))]\n",
    "        answer.append(dct)\n",
    "        \n",
    "    return answer"
   ]
  },
  {
   "cell_type": "code",
   "execution_count": 6,
   "id": "9c2c63d3",
   "metadata": {},
   "outputs": [],
   "source": [
    "file_path = \"../data/dota_hero_stats.csv\""
   ]
  },
  {
   "cell_type": "code",
   "execution_count": 7,
   "id": "7fb07272",
   "metadata": {},
   "outputs": [
    {
     "name": "stdout",
     "output_type": "stream",
     "text": [
      "npc_dota_hero_broodmother\n"
     ]
    }
   ],
   "source": [
    "with open(file_path) as file:\n",
    "    result = parse_csv(file.read())\n",
    "    \n",
    "dct = {}\n",
    "\n",
    "for i in result:\n",
    "    dct[i['name']] = i['legs']\n",
    "\n",
    "print(max(dct, key=dct.get))"
   ]
  },
  {
   "cell_type": "code",
   "execution_count": null,
   "id": "35ba6c35",
   "metadata": {},
   "outputs": [],
   "source": []
  },
  {
   "cell_type": "code",
   "execution_count": null,
   "id": "2f548c43",
   "metadata": {},
   "outputs": [],
   "source": []
  }
 ],
 "metadata": {
  "kernelspec": {
   "display_name": "Python 3 (ipykernel)",
   "language": "python",
   "name": "python3"
  },
  "language_info": {
   "codemirror_mode": {
    "name": "ipython",
    "version": 3
   },
   "file_extension": ".py",
   "mimetype": "text/x-python",
   "name": "python",
   "nbconvert_exporter": "python",
   "pygments_lexer": "ipython3",
   "version": "3.10.12"
  }
 },
 "nbformat": 4,
 "nbformat_minor": 5
}
